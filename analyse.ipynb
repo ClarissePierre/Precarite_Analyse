{
 "cells": [
  {
   "cell_type": "markdown",
   "metadata": {},
   "source": [
    "# Analyse du sondage sur la précarité"
   ]
  },
  {
   "cell_type": "markdown",
   "metadata": {},
   "source": [
    "Grandes questions sur l'architecture du rapport:\n",
    "\n",
    "- est-ce qu'on fait une description puis analyse des facteurs influence pour chaque type de précarité ou bien plutot une descritpion générale avec nos indicateurs de précarité puis pleins de sous-parties explicatives?\n",
    "\n",
    "- est-ce qu'on essaye de créer un indicatif/score de précarité? Ça peut être interessant et facile à utiliser pour les analyses"
   ]
  },
  {
   "cell_type": "code",
   "execution_count": null,
   "metadata": {},
   "outputs": [],
   "source": [
    "# Load the data\n",
    "\n",
    "data=read.csv(\"precarite.csv\")"
   ]
  },
  {
   "cell_type": "markdown",
   "metadata": {},
   "source": [
    "## 1 - Faire l'état des lieux descriptifs"
   ]
  },
  {
   "cell_type": "code",
   "execution_count": null,
   "metadata": {},
   "outputs": [],
   "source": [
    "# Histogrammes des dépenses mensuelles et des prix des loyers\n",
    "\n"
   ]
  },
  {
   "cell_type": "code",
   "execution_count": null,
   "metadata": {},
   "outputs": [],
   "source": [
    "# Histogramme des sources de revenus\n"
   ]
  },
  {
   "cell_type": "code",
   "execution_count": null,
   "metadata": {},
   "outputs": [],
   "source": [
    "# Heures par semaines travaillées et salaire horaire moyen"
   ]
  },
  {
   "cell_type": "code",
   "execution_count": null,
   "metadata": {},
   "outputs": [],
   "source": [
    "# Fins de mois difficiles"
   ]
  }
 ],
 "metadata": {
  "language_info": {
   "name": "python"
  }
 },
 "nbformat": 4,
 "nbformat_minor": 2
}
